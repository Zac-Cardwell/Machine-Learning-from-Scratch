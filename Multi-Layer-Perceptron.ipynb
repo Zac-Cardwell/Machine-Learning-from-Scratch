{
 "cells": [
  {
   "cell_type": "code",
   "execution_count": 1,
   "id": "950b27bc",
   "metadata": {},
   "outputs": [],
   "source": [
    "import numpy as np\n",
    "import random"
   ]
  },
  {
   "cell_type": "code",
   "execution_count": 2,
   "id": "977d2da7",
   "metadata": {},
   "outputs": [],
   "source": [
    "class FCL:\n",
    "    def __init__(self, input_size, output_size):\n",
    "        self.input_size = input_size\n",
    "        self.weights = np.random.rand(input_size, output_size)\n",
    "        self.bias = np.random.rand(1,output_size)\n",
    "    \n",
    "    def foward(self,x):\n",
    "        y = x.dot(self.weights) + self.bias\n",
    "        return y\n",
    "    \n",
    "    def backward(self, x, der, lr):\n",
    "        dw = x.T.dot(der)\n",
    "        db = der\n",
    "        dx = der.dot(self.weights.T)\n",
    "        \n",
    "        self.weights = self.weights - (-lr*dw)\n",
    "        self.bias = self.bias - (-lr*db)\n",
    "        \n",
    "        #print(f\"dw: {dw.shape} dx: {dx.shape}  db: {db.shape}\")\n",
    "        return dx"
   ]
  },
  {
   "cell_type": "code",
   "execution_count": 3,
   "id": "2ccadefe",
   "metadata": {},
   "outputs": [],
   "source": [
    "def tanh(x, back = False):\n",
    "    if not back:\n",
    "        return np.tanh(x)\n",
    "    else:\n",
    "        return 1 - np.tanh(x)**2"
   ]
  },
  {
   "cell_type": "code",
   "execution_count": 4,
   "id": "c358d1e4",
   "metadata": {},
   "outputs": [],
   "source": [
    "def final_max(y):\n",
    "    return 1.0 if y >= 0.0 else 0.0"
   ]
  },
  {
   "cell_type": "code",
   "execution_count": 5,
   "id": "dc511849",
   "metadata": {},
   "outputs": [],
   "source": [
    "def loss(y, y_hat, backprop=False):\n",
    "    if backprop:\n",
    "        return 2*(y-y_hat)\n",
    "    else:\n",
    "        return (y-y_hat)"
   ]
  },
  {
   "cell_type": "code",
   "execution_count": 6,
   "id": "f92caea5",
   "metadata": {},
   "outputs": [],
   "source": [
    "x = np.array([[[0,1]], [[1,0]],[[1,1]],[[0,0]]])\n",
    "y = np.array([[0],[0],[1],[0]])"
   ]
  },
  {
   "cell_type": "code",
   "execution_count": 7,
   "id": "5755eeab",
   "metadata": {},
   "outputs": [],
   "source": [
    "layer1 = FCL(2,5)\n",
    "layer2 = FCL(5,1)"
   ]
  },
  {
   "cell_type": "code",
   "execution_count": 8,
   "id": "694a33f9",
   "metadata": {},
   "outputs": [
    {
     "name": "stdout",
     "output_type": "stream",
     "text": [
      "[3.]\n",
      "[3.]\n",
      "[3.]\n",
      "[3.]\n",
      "[1.]\n",
      "0 loss achieved at epoch 10\n"
     ]
    }
   ],
   "source": [
    "epoch = 30\n",
    "lr = .5\n",
    "\n",
    "for _ in range(epoch):\n",
    "    sum_error = 0\n",
    "    for i in range(len(x)):\n",
    "        o1 = layer1.foward(x[i])\n",
    "        z1 = tanh(o1)\n",
    "        o2 = layer2.foward(z1)\n",
    "        z2 = tanh(o2)\n",
    "        f = final_max(z2)\n",
    "        \n",
    "        l = loss(y[i], f)\n",
    "        sum_error += l**2\n",
    "        \n",
    "        dl = 2*l\n",
    "        dz2 = dl * tanh(o2, back = True)\n",
    "        do2 = layer2.backward(z1, dz2, lr)\n",
    "        dz1 = do2 * tanh(o1, back = True)\n",
    "        do1 = layer1.backward(x[i], dz1, lr)\n",
    "\n",
    "    \n",
    "    if sum_error == 0:\n",
    "        print(f\"0 loss achieved at epoch {_}\")\n",
    "        break\n",
    "        \n",
    "    elif _ % 2 == 0: \n",
    "        print(sum_error)\n",
    "        #print(test1.weights)"
   ]
  }
 ],
 "metadata": {
  "kernelspec": {
   "display_name": "Python 3 (ipykernel)",
   "language": "python",
   "name": "python3"
  },
  "language_info": {
   "codemirror_mode": {
    "name": "ipython",
    "version": 3
   },
   "file_extension": ".py",
   "mimetype": "text/x-python",
   "name": "python",
   "nbconvert_exporter": "python",
   "pygments_lexer": "ipython3",
   "version": "3.10.8"
  }
 },
 "nbformat": 4,
 "nbformat_minor": 5
}
